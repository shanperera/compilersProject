{
 "cells": [
  {
   "cell_type": "markdown",
   "metadata": {
    "deletable": true,
    "editable": true,
    "hideCode": false,
    "hidePrompt": false
   },
   "source": [
    "# Project: Teaching Finite State Machines<br> Draft Report\n",
    "#### Group Members: <br> Liyanage Perera (pererali) <br> Danielle Shwed (shweddc) <br> Xiaoying Wang (wangx64)\n",
    "\n",
    "### Motivation\n",
    "The purpose of this project is to create a Jupyter Notebook for teaching people about finite state machines. This project will cover\n",
    "**Minimizing the number of states in Deterministic Finite State Machine (DFA)**\n",
    "\n",
    "\n",
    "It is very important to understand finite state machines when learning about compilers. Compilers are often built using a finite state machine to encode the current state and actions as well as transitions to other states. \n",
    "\n",
    "### Required Tools \n",
    "1. ipywidgets\n",
    "2. ipython display\n",
    "\n",
    "### Supporting OS\n",
    "Since the project is built on Jupyter Notebook, it supports multiple operating systems including: \n",
    "- Windows \n",
    "- Mac OS \n",
    "- Linux"
   ]
  },
  {
   "cell_type": "markdown",
   "metadata": {
    "deletable": true,
    "editable": true,
    "hideCode": false,
    "hidePrompt": false
   },
   "source": [
    "# Finite State Machine (FSM)"
   ]
  },
  {
   "cell_type": "markdown",
   "metadata": {
    "deletable": true,
    "editable": true,
    "hideCode": false,
    "hidePrompt": false
   },
   "source": [
    "### Finite State Machines\n",
    "\n",
    "A finite state machine is easiest thought of as a pattern recognizer. The relevance to compilers is that compilers are often built using a finite state machine to encode the current state and actions as well as transitions to other states.\n",
    "\n",
    "Lets break down the notation when referring to finite state machines. We can label the input alphabet as $\\Sigma$. We can call the states, Q. The transition function can be labelled as   ${\\displaystyle \\delta :S\\times \\Sigma \\rightarrow S}$. And the start state will be called S<sub>0</sub>. Finally, the set of accepting states can be labelled as ${\\displaystyle A\\in Q}$."
   ]
  },
  {
   "cell_type": "markdown",
   "metadata": {
    "deletable": true,
    "editable": true,
    "hideCode": false,
    "hidePrompt": false
   },
   "source": [
    "Finite State Machine <b>F := ($\\Sigma$, Q, $\\delta$, S<sub>0</sub>, A)</b>\n",
    "\n",
    "<ul>\n",
    "    <li>Vocabular: $\\Sigma$</li>\n",
    "    <li>States: Q</li>\n",
    "    <li>Transition Function: ${\\displaystyle \\delta :S\\times \\Sigma \\rightarrow S}$</li>\n",
    "    <li>Start State: S<sub>0</sub> â Q</li>\n",
    "    <li>Final States:  ${\\displaystyle A\\in Q}$</li>\n",
    "</ul>\n"
   ]
  },
  {
   "cell_type": "markdown",
   "metadata": {
    "deletable": true,
    "editable": true
   },
   "source": [
    "Finite state machine F receives an input string, which we will call w. This input string is part of our input alphabet which we labelled before as $\\Sigma$. We read each symbol in w one at a time.\n",
    "\n",
    "The machine always has a current state, which is called q. We will always start at the machine's start state, s. Each time the machine takes in a symbol from w, the input string, it will transition from its current state q. This can be described as Î´(q, a). The machine accepts the input string if there has been successful transitions for each symbol in w, if not it will reject the string. "
   ]
  },
  {
   "cell_type": "markdown",
   "metadata": {
    "deletable": true,
    "editable": true,
    "hideCode": false,
    "hidePrompt": false
   },
   "source": [
    "Below is an implementation of a finite state machine along with a visualization. Under the example program try to implement your own states and transitions. Be sure to edit the position states and transitions are drawn at in order to visualize your machine properly. To make self states you can use the bezier curve function."
   ]
  },
  {
   "cell_type": "code",
   "execution_count": 1,
   "metadata": {
    "collapsed": false,
    "deletable": true,
    "editable": true,
    "hideCode": false,
    "hidePrompt": false
   },
   "outputs": [
    {
     "data": {
      "text/html": [
       "<svg id=\"statesvg\" height=\"150\" width=\"1000\"><circle cx=\"50\" cy=\"100\" r=\"30\" stroke=\"black\" stroke-width=\"3\" fill=\"red\" /><text x=\"50\" y=\"100\" text-anchor=\"middle\" stroke=\"black\" stroke-width=\"2px\" dy=\".3em\">q0</text><circle cx=\"350\" cy=\"50\" r=\"30\" stroke=\"black\" stroke-width=\"3\" fill=\"red\" /><text x=\"350\" y=\"50\" text-anchor=\"middle\" stroke=\"black\" stroke-width=\"2px\" dy=\".3em\">q1</text><circle cx=\"650\" cy=\"100\" r=\"30\" stroke=\"black\" stroke-width=\"3\" fill=\"red\" /><text x=\"650\" y=\"100\" text-anchor=\"middle\" stroke=\"black\" stroke-width=\"2px\" dy=\".3em\">q2</text><circle cx=\"950\" cy=\"50\" r=\"30\" stroke=\"black\" stroke-width=\"3\" fill=\"blue\" /><text x=\"950\" y=\"50\" text-anchor=\"middle\" stroke=\"black\" stroke-width=\"2px\" dy=\".3em\">q3</text><defs>\n",
       "                <marker id=\"arrowhead\" markerWidth=\"5\" markerHeight=\"7\" \n",
       "                    stroke = \"black\" refX=\"0\" refY=\"3.5\" orient=\"auto\">\n",
       "                    <polygon points=\"0 0, 2 3.5, 0 7\" />\n",
       "                </marker>\n",
       "              </defs>\n",
       "          <line x1=\"100\" y1=\"100\" x2=\"300\" y2=\"50\" stroke=\"black\" stroke-width=\"4\" marker-end=\"url(#arrowhead)\" />\n",
       "          <text x=\"200.0\" y=\"40\" text-anchor=\"middle\" stroke=\"black\" stroke-width=\"2px\" dy=\".3em\">a</text><defs>\n",
       "                <marker id=\"arrowhead\" markerWidth=\"5\" markerHeight=\"7\" \n",
       "                    stroke = \"black\" refX=\"0\" refY=\"3.5\" orient=\"auto\">\n",
       "                    <polygon points=\"0 0, 2 3.5, 0 7\" />\n",
       "                </marker>\n",
       "              </defs>\n",
       "          <line x1=\"100\" y1=\"100\" x2=\"600\" y2=\"100\" stroke=\"black\" stroke-width=\"4\" marker-end=\"url(#arrowhead)\" />\n",
       "          <text x=\"350.0\" y=\"120\" text-anchor=\"middle\" stroke=\"black\" stroke-width=\"2px\" dy=\".3em\">d</text><defs>\n",
       "                <marker id=\"arrowhead\" markerWidth=\"5\" markerHeight=\"7\" \n",
       "                    stroke = \"black\" refX=\"0\" refY=\"3.5\" orient=\"auto\">\n",
       "                    <polygon points=\"0 0, 2 3.5, 0 7\" />\n",
       "                </marker>\n",
       "              </defs>\n",
       "          <line x1=\"400\" y1=\"50\" x2=\"600\" y2=\"100\" stroke=\"black\" stroke-width=\"4\" marker-end=\"url(#arrowhead)\" />\n",
       "          <text x=\"500.0\" y=\"40\" text-anchor=\"middle\" stroke=\"black\" stroke-width=\"2px\" dy=\".3em\">b</text><defs>\n",
       "                <marker id=\"arrowhead\" markerWidth=\"5\" markerHeight=\"7\" \n",
       "                    stroke = \"black\" refX=\"0\" refY=\"3.5\" orient=\"auto\">\n",
       "                    <polygon points=\"0 0, 2 3.5, 0 7\" />\n",
       "                </marker>\n",
       "              </defs>\n",
       "          <line x1=\"700\" y1=\"100\" x2=\"900\" y2=\"50\" stroke=\"black\" stroke-width=\"4\" marker-end=\"url(#arrowhead)\" />\n",
       "          <text x=\"800.0\" y=\"40\" text-anchor=\"middle\" stroke=\"black\" stroke-width=\"2px\" dy=\".3em\">c</text></svg>"
      ],
      "text/plain": [
       "<IPython.core.display.HTML object>"
      ]
     },
     "metadata": {},
     "output_type": "display_data"
    },
    {
     "name": "stdout",
     "output_type": "stream",
     "text": [
      "The FSM has evaluated the string and is in an accepting state\n",
      "The String \"dc\" is accepted by Finite State Machine \"AlphabetSoup\"\n"
     ]
    },
    {
     "data": {
      "text/plain": [
       "True"
      ]
     },
     "execution_count": 1,
     "metadata": {},
     "output_type": "execute_result"
    }
   ],
   "source": [
    "from IPython.display import HTML, display\n",
    "from ipywidgets import interact\n",
    "from IPython.html.widgets.interaction import interact\n",
    "from IPython.display import clear_output\n",
    "import time\n",
    "\n",
    "GRAPHIC_WIDTH  = 400\n",
    "GRAPHIC_HEIGHT = 300\n",
    "STROKE_COLOR   = 'black'\n",
    "STROKE_WIDTH   = 0\n",
    "FILL_COLOR     = 'blue'\n",
    "COLORS         = ('red', 'orange', 'yellow', 'green', 'purple', 'blue', 'black', 'white')\n",
    "\n",
    "class Circle(object):\n",
    "    \"\"\"Define a circle object\"\"\"\n",
    "    def __init__(self, x, y, radius, fill_color,name):\n",
    "        self.name = name;\n",
    "        self.x = x;\n",
    "        self.y = y;\n",
    "        self.radius = radius;\n",
    "        self.fill_color = fill_color;\n",
    "    \n",
    "    def change_color(self, color):\n",
    "        self.fill_color = color;\n",
    "        \n",
    "    def getX(self):\n",
    "        return self.x;\n",
    "    \n",
    "    def getY(self):\n",
    "        return self.y;\n",
    "    \n",
    "class Arrow(object):\n",
    "    \"\"\"Arrow object to draw transitions\"\"\"\n",
    "    def __init__(self, x1, y1, x2, y2, ytext, name, color):\n",
    "        self.x1 = x1;\n",
    "        self.y1 = y1;\n",
    "        self.x2 = x2;\n",
    "        self.y2 = y2;\n",
    "        self.ytext = ytext;\n",
    "        self.name = name;\n",
    "        self.color = color;\n",
    "        \n",
    "    def change_color(self, color):\n",
    "        self.color = color;\n",
    "      \n",
    "        \n",
    "def draw_circle(x,y,radius,fill_color,name):\n",
    "        \"\"\" Return SVG string corresponding to a circle with the specified parameters \"\"\"\n",
    "        html = '<circle cx=\"%s\" cy=\"%s\" r=\"%s\" stroke=\"black\" stroke-width=\"3\" fill=\"%s\" /><text x=\"%s\" y=\"%s\" text-anchor=\"middle\" stroke=\"black\" stroke-width=\"2px\" dy=\".3em\">%s</text>' % (x,y,radius,fill_color,x,y,name)\n",
    "    \n",
    "        return html\n",
    "    \n",
    "def draw_transition(x1, y1, x2, y2, ytext, name, color):\n",
    "    \"\"\"Draw transition arrow\"\"\"\n",
    "    textPos = (x1 + x2) / 2;\n",
    "    html = \"\"\"<defs>\n",
    "                <marker id=\"arrowhead\" markerWidth=\"5\" markerHeight=\"7\" \n",
    "                    stroke = \"%s\" refX=\"0\" refY=\"3.5\" orient=\"auto\">\n",
    "                    <polygon points=\"0 0, 2 3.5, 0 7\" />\n",
    "                </marker>\n",
    "              </defs>\n",
    "          <line x1=\"%s\" y1=\"%s\" x2=\"%s\" y2=\"%s\" stroke=\"%s\" stroke-width=\"4\" marker-end=\"url(#arrowhead)\" />\n",
    "          <text x=\"%s\" y=\"%s\" text-anchor=\"middle\" stroke=\"black\" stroke-width=\"2px\" dy=\".3em\">%s</text>\"\"\" % (color,x1, y1, x2, y2, color, textPos, ytext, name)\n",
    "    \n",
    "    return html\n",
    "\"\"\"\n",
    "def draw_bezTransition(xstart,xend,y,name):\n",
    "    Draw bezier curve for curved transition arrow\n",
    "    textPos = (xstart + xend) / 2;\n",
    "    html = <path d=\"M70 60 C %s 120, %s 120, %s 60\" stroke=\"black\" stroke-width=\"4\"fill=\"transparent\"/>\n",
    "    <text x=\"%s\" y=\"%s\" text-anchor=\"middle\" stroke=\"black\" stroke-width=\"2px\" dy=\".3em\">%s</text>% (xstart,xend,xend,textPos, y,name)\n",
    "    \n",
    "    return html\n",
    "\"\"\"\n",
    "\n",
    "def draw_machine(machine,t):\n",
    "    \"\"\"Draw the machine\"\"\"\n",
    "    svg_start = '<svg id=\"statesvg\" height=\"150\" width=\"1000\">'\n",
    "    svg_end = '</svg>'\n",
    "    html = svg_start\n",
    "    \n",
    "    for i in range(0,len(machine)):\n",
    "        html = html + draw_circle(machine[i].x, machine[i].y, machine[i].radius, machine[i].fill_color, machine[i].name)\n",
    "    \n",
    "    for j in range(0, len(t)):\n",
    "        html = html + draw_transition(t[j].x1, t[j].y1, t[j].x2, t[j].y2, t[j].ytext, t[j].name, t[j].color);\n",
    "        \n",
    "    html = html + svg_end\n",
    "    \n",
    "    return html\n",
    "        \n",
    "\n",
    "\n",
    "class FiniteStateMachine(object):\n",
    "    def __init__(self, name, states=None, initial='S', final='', transitions=None):\n",
    "\n",
    "        #Arguments\n",
    "        \"\"\"\n",
    "        name:\n",
    "        The name of the finite state machine object\n",
    "        type(name) = String\n",
    "        \n",
    "        states:\n",
    "        A list of all states in the finite state machine object,\n",
    "        type(states) = [State]\n",
    "\n",
    "        initial:\n",
    "        The start state of the finite state machine,\n",
    "        type(initial) = State\n",
    "\n",
    "        final:\n",
    "        The final/accepting state of the finite state machine,\n",
    "        type(final) = State\n",
    "                 \n",
    "        transitions:\n",
    "        A list of all transitions that are found in the FSM,\n",
    "        type(transitions) = [Transition]\n",
    "        \"\"\"\n",
    "\n",
    "        #A global variable to store the current state of the FSM\n",
    "        global currentState;\n",
    "        currentState = \"\";\n",
    "\n",
    "        self.name = name;\n",
    "        self.states = states;\n",
    "        self.initial = initial;\n",
    "        self.final = final;\n",
    "        self.transitions = transitions;\n",
    "        currentState = initial;\n",
    "    \n",
    "class State(object):\n",
    "    \n",
    "    def __init__(self, name):\n",
    "        global xlocation\n",
    "        self.name = name;\n",
    "       \n",
    "    \"\"\"\n",
    "        State Objects are simply placeholder objects that holds a\n",
    "        state's name.\n",
    "    \"\"\"\n",
    "\n",
    "    def getName(self):\n",
    "        return self.name;\n",
    "    \n",
    "class Transition(object):    \n",
    "    def __init__(self, source, source_visual, dest, dest_visual, trigger, transitionNumber):\n",
    "\n",
    "        \"\"\"\n",
    "        source:        \n",
    "        The source state where this transition occurs,\n",
    "        type(source) = String, usually one character, ex: \"a\"\n",
    "        \n",
    "        dest:\n",
    "        The destination state to enter after completing the transition\n",
    "        type(dest) = String\n",
    "        \n",
    "        #trigger:\n",
    "        The valid input string required for the transition to execute\n",
    "        type(trigger) = String         \n",
    "        \"\"\"\n",
    "        \n",
    "        self.source = source;\n",
    "        self.source_visual = source_visual;\n",
    "        self.dest = dest;\n",
    "        self.dest_visual = dest_visual;\n",
    "        self.trigger = trigger;\n",
    "        self.transitionNumber = transitionNumber;\n",
    "\n",
    "    def getSource(self):\n",
    "        return self.source;\n",
    "    \n",
    "    def getTransition(self):\n",
    "        return transitionNumber;\n",
    "    \n",
    "    def getSourceVisual(self):\n",
    "        return self.source_visual;\n",
    "\n",
    "    def getDest(self):\n",
    "        return self.dest;\n",
    "    \n",
    "    def getDestVisual(self):\n",
    "        return self.dest_visual;\n",
    "\n",
    "    def getTrigger(self):\n",
    "        return self.trigger;\n",
    "\n",
    "    #Transition event occurred\n",
    "    def transition(self, inp):\n",
    "        #Checks if the transition is valid for the current state\n",
    "        if(currentState == self.source):\n",
    "            #Checks if the input character matches the required transition symbol\n",
    "            if(inp == self.trigger):\n",
    "               # states[self.source_visual].change_color(\"blue\");\n",
    "              #  display(HTML(draw_machine(states)))\n",
    "                print(\"Transitioning from state %s to state %s\"\n",
    "                  % (self.source, self.dest));\n",
    "                #Set new current state to be the destination state. Sleep is used so the user can see the transitions\n",
    "                time.sleep(2);\n",
    "                #Display the state machine by transitions\n",
    "                states[self.source_visual].change_color(\"red\");\n",
    "                display(HTML(draw_machine(states,transitions)))\n",
    "                clear_output()\n",
    "               # time.sleep(1)\n",
    "                transitions[self.transitionNumber].change_color(\"blue\");\n",
    "                display(HTML(draw_machine(states,transitions)))\n",
    "                time.sleep(2);\n",
    "                transitions[self.transitionNumber].change_color(\"black\");\n",
    "                display(HTML(draw_machine(states,transitions)))\n",
    "                clear_output()\n",
    "                states[self.dest_visual].change_color(\"blue\");\n",
    "                display(HTML(draw_machine(states,transitions)))\n",
    "                newCurrentState(self.dest);\n",
    "            else:\n",
    "                print(\"Invalid transition\")\n",
    "\n",
    "    def printTransition(self):\n",
    "        print(\"Source: %s, Destination: %s, Trigger: %s \" % (self.source, self.dest, self.trigger));\n",
    "        \n",
    "\n",
    "#Updates the current state of the finite state machine\n",
    "def newCurrentState(s):\n",
    "    global currentState\n",
    "    currentState = s;\n",
    "\n",
    "#Evaluates an input string 's' given a FSM 'f'\n",
    "#TODO: Implement backtracking or DFS/BFS-like transition evaluation\n",
    "#      for specific cases of input strings where the current method\n",
    "#      will incorrectly evaluate a string as False\n",
    "def evaluateString(f,s):\n",
    "    finalState = f.final;\n",
    "    startState = f.initial;\n",
    "    trans = f.transitions;\n",
    "    flag = False;\n",
    "\n",
    "    #Resets the CurrentState var to the start state so evaluations of\n",
    "    #input strings are independent of the results of the previous input string\n",
    "    newCurrentState(startState)\n",
    "\n",
    "    #Iterate over each character in String 's'\n",
    "    for i in range(0,len(s)):\n",
    "        #Iterate over each transition in FSM\n",
    "        for j in range (0, len(trans)):\n",
    "            #Checks if transition applies to the current state of the FSM\n",
    "            if(currentState == trans[j].getSource()):\n",
    "                #Checks if the input string matches the required transition symbol\n",
    "                if(s[i] == trans[j].getTrigger()):\n",
    "                    trans[j].transition(s[i]);\n",
    "\n",
    "                if(currentState == finalState):\n",
    "                    print('The FSM has evaluated the string and is in an accepting state')\n",
    "                    print('The String \"%s\" is accepted by Finite State Machine \"%s\"' % (s, f.name))\n",
    "                    flag = True;\n",
    "                    break\n",
    "                elif(currentState == finalState and j==len(trans)):\n",
    "                    print('The String \"%s\" is rejected by Finite State Machine \"%s\"' % (s, f.name))\n",
    "        if(flag == True):\n",
    "            break;\n",
    "    return flag  \n",
    "            \n",
    "    \n",
    "\"\"\"\n",
    "---------------------------------------\n",
    "------------EXAMPLE PROGRAM------------\n",
    "---------------------------------------\n",
    "\"\"\"\n",
    "\n",
    "print(\"Creating the following States: q0, q1, q2, q3\");\n",
    "\n",
    "\"\"\"Define states to draw\"\"\"\n",
    "q0 = Circle(50,100,30,'red','q0');\n",
    "q1 = Circle(350,50,30,'red','q1');\n",
    "q2 = Circle(650,100,30,'red','q2');\n",
    "q3 = Circle(950,50,30,'red','q3');\n",
    "states = [q0,q1,q2,q3];\n",
    "\n",
    "\"\"\"Define transitions to draw\"\"\"\n",
    "t1 = Arrow(q0.getX()+50, q0.getY(), q1.getX()-50, q1.getY(), 40, 'a', 'black');\n",
    "t2 = Arrow(q0.getX()+50, q0.getY(), q2.getX()-50, q2.getY(), 120, 'd', 'black');\n",
    "t3 = Arrow(q1.getX()+50, q1.getY(), q2.getX()-50, q2.getY(), 40, 'b', 'black');\n",
    "t4 = Arrow(q2.getX()+50, q2.getY(), q3.getX()-50, q3.getY(), 40, 'c', 'black');\n",
    "transitions = [t1,t2,t3,t4];\n",
    "\n",
    "display(HTML(draw_machine(states,transitions)));\n",
    "\n",
    "\n",
    "x = [State(\"q0\"), State(\"q1\"), State(\"q2\"), State(\"q3\")];  \n",
    "\n",
    "y = [Transition('q0',0,'q1',1,'a',0), Transition('q0',0, 'q2', 2,'d',1),\n",
    "     Transition('q1', 1, 'q2', 2, 'b',2), Transition('q2', 2, 'q3', 3, 'c',3)];\n",
    "\n",
    "print(\"Creating Transitions for States:\")\n",
    "#Output the transitions being created in legible format\n",
    "for i in range(0,len(y)):\n",
    "    y[i].printTransition();\n",
    "    \n",
    "#No error handling implemented to check if q0 and q3 is a subset of States x\n",
    "z = FiniteStateMachine(\"AlphabetSoup\", x,'q0','q3',y);\n",
    "print(\"\")\n",
    "print('The finite state machine will evaluate the following string: \"abc\"')\n",
    "print(\"\")\n",
    "evaluateString(z, \"abc\")\n",
    "evaluateString(z, \"dc\")\n",
    "#evaluateString(z, \"bc\")"
   ]
  },
  {
   "cell_type": "markdown",
   "metadata": {
    "deletable": true,
    "editable": true
   },
   "source": [
    "#### <font color='Blue'>TRY YOURSELF:</font>\n",
    "Try to type in a string in the textbox below to see if that string is accepted by the FSM created above."
   ]
  },
  {
   "cell_type": "code",
   "execution_count": 2,
   "metadata": {
    "collapsed": false,
    "deletable": true,
    "editable": true,
    "hideCode": false,
    "hidePrompt": false,
    "scrolled": false
   },
   "outputs": [
    {
     "data": {
      "application/vnd.jupyter.widget-view+json": {
       "model_id": "d74b5897cba940e193dff6ce3a2d667f"
      }
     },
     "metadata": {},
     "output_type": "display_data"
    }
   ],
   "source": [
    "from ipywidgets import widgets\n",
    "from IPython.display import display\n",
    "text = widgets.Text()\n",
    "display(text)\n",
    "\n",
    "def handle_submit(sender):\n",
    "    if (evaluateString(z, text.value) == True):\n",
    "        print(\"Input accepted by the Finite State Machine!\")\n",
    "    else:\n",
    "        print(\"Input not accepted. Try again\")\n",
    "text.on_submit(handle_submit)"
   ]
  },
  {
   "cell_type": "markdown",
   "metadata": {
    "deletable": true,
    "editable": true,
    "hideCode": false,
    "hidePrompt": false
   },
   "source": [
    "#### <font color='Blue'>TRY YOURSELF:</font>\n",
    "Try to use the sample code above and create a finite state machine yourself! "
   ]
  },
  {
   "cell_type": "code",
   "execution_count": 3,
   "metadata": {
    "collapsed": false,
    "deletable": true,
    "editable": true,
    "hideCode": false,
    "hidePrompt": false
   },
   "outputs": [
    {
     "data": {
      "text/plain": [
       "'\\nUse the sample code above to create a finite state machine and display it on screen\\nYour code goes here\\n'"
      ]
     },
     "execution_count": 3,
     "metadata": {},
     "output_type": "execute_result"
    }
   ],
   "source": [
    "\"\"\"\n",
    "Use the sample code above to create a finite state machine and display it on screen\n",
    "Your code goes here\n",
    "\"\"\""
   ]
  },
  {
   "cell_type": "markdown",
   "metadata": {
    "deletable": true,
    "editable": true,
    "hideCode": false,
    "hidePrompt": false
   },
   "source": [
    "# State Minimization\n",
    "A problem which can arise after constructing a deterministic finite state machine (DFA), is the amount of states that we might end up with. The amount of states might very well be more than is necessary. This might lead us to want to minimize the amount of states within the machine. Another reason why we would want to minimize the states in a finite state machine is to minimize the cost, being the time and space.\n",
    "### Removing Redundant State(s)\n",
    "We can look at this with more of an algorithmic approach, giving clear steps of how to minimize our states in the DFA.\n",
    "1. Start with state transition table\n",
    "2. Identify which states have the same output behaviour\n",
    "3. If a state transitions to the same next state, we call them equivalent\n",
    "4. Combine these states into a single new renamed state\n",
    "5. Repeat the process until we can no longer combine states into new states.\n",
    "\n",
    "We will use the machine below to show how to remove redundant state(s) step by step. "
   ]
  },
  {
   "cell_type": "code",
   "execution_count": 4,
   "metadata": {
    "collapsed": true,
    "deletable": true,
    "editable": true,
    "hideCode": false,
    "hidePrompt": false
   },
   "outputs": [],
   "source": [
    "class FiniteStateMachine_novisual(object):\n",
    "    def __init__(self, name, states=None, initial='S', final='', transitions=None):\n",
    "\n",
    "        #Arguments\n",
    "        \"\"\"\n",
    "        name:\n",
    "        The name of the finite state machine object\n",
    "        type(name) = String\n",
    "        \n",
    "        states:\n",
    "        A list of all states in the finite state machine object,\n",
    "        type(states) = [State]\n",
    "\n",
    "        initial:\n",
    "        The start state of the finite state machine,\n",
    "        type(initial) = State\n",
    "\n",
    "        final:\n",
    "        The final/accepting state of the finite state machine,\n",
    "        type(final) = State\n",
    "                 \n",
    "        transitions:\n",
    "        A list of all transitions that are found in the FSM,\n",
    "        type(transitions) = [Transition]\n",
    "        \"\"\"\n",
    "\n",
    "        #A global variable to store the current state of the FSM\n",
    "        global currentState;\n",
    "        currentState = \"\";\n",
    "\n",
    "        self.name = name;\n",
    "        self.states = states;\n",
    "        self.initial = initial;\n",
    "        self.final = final;\n",
    "        self.transitions = transitions;\n",
    "        currentState = initial;\n",
    "    \n",
    "class State(object):\n",
    "    def __init__(self, name):\n",
    "        self.name = name;\n",
    "    \"\"\"\n",
    "        State Objects are simply placeholder objects that holds a\n",
    "        state's name.\n",
    "    \"\"\"\n",
    "\n",
    "    def getName(self):\n",
    "        return self.name;\n",
    "    \n",
    "class Transition(object):    \n",
    "    def __init__(self, source, dest, trigger):\n",
    "\n",
    "        \"\"\"\n",
    "        source:        \n",
    "        The source state where this transition occurs,\n",
    "        type(source) = String, usually one character, ex: \"a\"\n",
    "        \n",
    "        dest:\n",
    "        The destination state to enter after completing the transition\n",
    "        type(dest) = String\n",
    "        \n",
    "        #trigger:\n",
    "        The valid input string required for the transition to execute\n",
    "        type(trigger) = String         \n",
    "        \"\"\"\n",
    "        \n",
    "        self.source = source;\n",
    "        self.dest = dest;\n",
    "        self.trigger = trigger;\n",
    "\n",
    "    def getSource(self):\n",
    "        return self.source;\n",
    "\n",
    "    def getDest(self):\n",
    "        return self.dest;\n",
    "\n",
    "    def getTrigger(self):\n",
    "        return self.trigger;\n",
    "\n",
    "    #Transition event occurred\n",
    "    def transition(self, inp):\n",
    "        #Checks if the transition is valid for the current state\n",
    "        if(currentState == self.source):\n",
    "            #Checks if the input character matches the required transition symbol\n",
    "            if(inp == self.trigger):\n",
    "                print(\"Transitioning from state %s to state %s\"\n",
    "                  % (self.source, self.dest));\n",
    "                #Set new current state to be the destination state\n",
    "                newCurrentState(self.dest);\n",
    "            else:\n",
    "                print(\"Invalid transition\")\n",
    "\n",
    "    def printTransition(self):\n",
    "        print(\"Source: %s, Destination: %s, Trigger: %s \" % (self.source, self.dest, self.trigger));\n",
    "        \n",
    "\n",
    "#Updates the current state of the finite state machine\n",
    "def newCurrentState(s):\n",
    "    global currentState\n",
    "    currentState = s;\n",
    "\n",
    "#Evaluates an input string 's' given a FSM 'f'\n",
    "#TODO: Implement backtracking or DFS/BFS-like transition evaluation\n",
    "#      for specific cases of input strings where the current method\n",
    "#      will incorrectly evaluate a string as False\n",
    "def evaluateString(f,s):\n",
    "    finalState = f.final;\n",
    "    startState = f.initial;\n",
    "    trans = f.transitions;\n",
    "    flag = False;\n",
    "\n",
    "    #Resets the CurrentState var to the start state so evaluations of\n",
    "    #input strings are independent of the results of the previous input string\n",
    "    newCurrentState(startState)\n",
    "\n",
    "    #Iterate over each character in String 's'\n",
    "    for i in range(0,len(s)):\n",
    "        #Iterate over each transition in FSM\n",
    "        for j in range (0, len(trans)):\n",
    "            #Checks if transition applies to the current state of the FSM\n",
    "            if(currentState == trans[j].getSource()):\n",
    "                #Checks if the input string matches the required transition symbol\n",
    "                if(s[i] == trans[j].getTrigger()):\n",
    "                    trans[j].transition(s[i]);\n",
    "\n",
    "                if(currentState == finalState):\n",
    "                    print('The FSM has evaluated the string and is in an accepting state')\n",
    "                    print('The String \"%s\" is accepted by Finite State Machine \"%s\"' % (s, f.name))\n",
    "                    flag = True;\n",
    "                    break\n",
    "                elif(currentState == finalState and j==len(trans)):\n",
    "                    print('The String \"%s\" is rejected by Finite State Machine \"%s\"' % (s, f.name))\n",
    "        if(flag == True):\n",
    "            break;"
   ]
  },
  {
   "cell_type": "code",
   "execution_count": 5,
   "metadata": {
    "collapsed": false,
    "deletable": true,
    "editable": true,
    "hideCode": false,
    "hidePrompt": false
   },
   "outputs": [
    {
     "name": "stdout",
     "output_type": "stream",
     "text": [
      "Creating the following States: q1, q2, q3, q4, q5\n",
      "Creating Transitions for States:\n",
      "Transitioning from state q1 to state q2\n",
      "Transitioning from state q2 to state q2\n",
      "Transitioning from state q2 to state q4\n",
      "Transitioning from state q4 to state q5\n",
      "The FSM has evaluated the string and is in an accepting state\n",
      "The String \"abba\" is accepted by Finite State Machine \"AlphabetSoup\"\n"
     ]
    }
   ],
   "source": [
    "print(\"Creating the following States: q1, q2, q3, q4, q5\");\n",
    "x = [State(\"q1\"), State(\"q2\"), State(\"q3\"), State(\"q4\"), State(\"q5\")]; \n",
    "y = [Transition('q1','q2','a'), Transition('q1', 'q3', 'b'), Transition('q2', 'q2', 'a'), Transition('q2', 'q4', 'b'), \n",
    "     Transition('q3', 'q2', 'a'), Transition('q3', 'q3', 'b'), Transition('q4', 'q2', 'a'), Transition('q4', 'q5', 'b'), \n",
    "     Transition('q5', 'q2', 'a'), Transition('q5', 'q3', 'b')]\n",
    "print(\"Creating Transitions for States:\")\n",
    "z = FiniteStateMachine_novisual(\"AlphabetSoup\", x,'q1','q5' ,y);\n",
    "evaluateString(z, \"abba\")"
   ]
  },
  {
   "cell_type": "markdown",
   "metadata": {
    "deletable": true,
    "editable": true,
    "hideCode": false,
    "hidePrompt": false
   },
   "source": [
    "#### <font color='Blue'>TRY YOURSELF:</font>\n",
    "Create a machine without visualization"
   ]
  },
  {
   "cell_type": "code",
   "execution_count": 6,
   "metadata": {
    "collapsed": false,
    "deletable": true,
    "editable": true,
    "hideCode": false,
    "hidePrompt": false
   },
   "outputs": [
    {
     "data": {
      "text/plain": [
       "'\\nYour code goes here\\n'"
      ]
     },
     "execution_count": 6,
     "metadata": {},
     "output_type": "execute_result"
    }
   ],
   "source": [
    "\"\"\"\n",
    "Your code goes here\n",
    "\"\"\""
   ]
  },
  {
   "cell_type": "markdown",
   "metadata": {
    "deletable": true,
    "editable": true,
    "hideCode": false,
    "hidePrompt": false
   },
   "source": [
    "#### Step 1:\n",
    "Creating a state transition table.\n",
    "\n",
    "A state transition table is a table which has the input sequence, the present state of the machine, the next possible states as well as the output. Using the state transition table as a tool in order to determine equivalent states is called row matching iteration. See the image below as an example of a state transition table."
   ]
  },
  {
   "cell_type": "code",
   "execution_count": 7,
   "metadata": {
    "collapsed": true,
    "deletable": true,
    "editable": true,
    "hideCode": false,
    "hidePrompt": false
   },
   "outputs": [],
   "source": [
    "def genTransTable(f):\n",
    "    finalState = f.final;\n",
    "    startState = f.initial;\n",
    "    trans = f.transitions;\n",
    "    States = f.states\n",
    "    stateOrder = []\n",
    "    for i in range(0, len(States)):\n",
    "        stateOrder.append(States[i].getName())\n",
    "    \n",
    "    alphabet = [];\n",
    "    for i in range(0, len(trans)):\n",
    "        if(trans[i].getTrigger() not in alphabet):\n",
    "            alphabet.append(trans[i].getTrigger())\n",
    "    #print(len(alphabet))\n",
    "    transTable=[[\"none\" for i in range(len(alphabet))] for j in range(len(States))]\n",
    "    for i in range(0, len(States)):\n",
    "        for j in range(0, len(alphabet)):\n",
    "            for k in range(0, len(trans)):\n",
    "                if(trans[k].getSource() == States[i].getName() and trans[k].getTrigger() == alphabet[j]):\n",
    "                    transTable[i][j] = trans[k].getDest()\n",
    "    return transTable"
   ]
  },
  {
   "cell_type": "markdown",
   "metadata": {
    "deletable": true,
    "editable": true,
    "hideCode": false,
    "hidePrompt": false
   },
   "source": [
    "Example of a State Transition Table: "
   ]
  },
  {
   "cell_type": "code",
   "execution_count": 8,
   "metadata": {
    "collapsed": false,
    "deletable": true,
    "editable": true,
    "hideCode": false,
    "hidePrompt": false
   },
   "outputs": [
    {
     "name": "stdout",
     "output_type": "stream",
     "text": [
      "['q2', 'q3']\n",
      "['q2', 'q4']\n",
      "['q2', 'q3']\n",
      "['q2', 'q5']\n",
      "['q2', 'q3']\n"
     ]
    }
   ],
   "source": [
    "tansition_table = genTransTable(z)\n",
    "for i in tansition_table:\n",
    "    print(i)"
   ]
  },
  {
   "cell_type": "markdown",
   "metadata": {
    "deletable": true,
    "editable": true
   },
   "source": [
    "#### <font color='Blue'>TRY YOURSELF:</font>\n",
    "Create the transition table for the machine you created."
   ]
  },
  {
   "cell_type": "code",
   "execution_count": 9,
   "metadata": {
    "collapsed": false,
    "deletable": true,
    "editable": true
   },
   "outputs": [
    {
     "data": {
      "text/plain": [
       "'\\nYour code goes here\\n'"
      ]
     },
     "execution_count": 9,
     "metadata": {},
     "output_type": "execute_result"
    }
   ],
   "source": [
    "\"\"\"\n",
    "Your code goes here\n",
    "\"\"\""
   ]
  },
  {
   "cell_type": "markdown",
   "metadata": {
    "deletable": true,
    "editable": true,
    "hideCode": false,
    "hidePrompt": false
   },
   "source": [
    "#### Step 2:\n",
    "Creating a list of alphabets and a list states."
   ]
  },
  {
   "cell_type": "code",
   "execution_count": 10,
   "metadata": {
    "collapsed": true,
    "deletable": true,
    "editable": true,
    "hideCode": false,
    "hidePrompt": false
   },
   "outputs": [],
   "source": [
    "def genAlphabet(f):\n",
    "    finalState = f.final;\n",
    "    startState = f.initial;\n",
    "    trans = f.transitions;\n",
    "    States = f.states\n",
    "    alphabet = [];\n",
    "    for i in range(0, len(trans)):\n",
    "        if(trans[i].getTrigger() not in alphabet):\n",
    "            alphabet.append(trans[i].getTrigger())\n",
    "    return alphabet"
   ]
  },
  {
   "cell_type": "code",
   "execution_count": 11,
   "metadata": {
    "collapsed": true,
    "deletable": true,
    "editable": true,
    "hideCode": false,
    "hidePrompt": false
   },
   "outputs": [],
   "source": [
    "def genStateOrder(f):\n",
    "    finalState = f.final;\n",
    "    startState = f.initial;\n",
    "    trans = f.transitions;\n",
    "    States = f.states\n",
    "    stateOrder = []\n",
    "    for i in range(0, len(States)):\n",
    "        stateOrder.append(States[i].getName())\n",
    "    return stateOrder"
   ]
  },
  {
   "cell_type": "markdown",
   "metadata": {
    "deletable": true,
    "editable": true
   },
   "source": [
    "#### <font color='Blue'>TRY YOURSELF:</font>\n",
    "Create the list of alphabets and the list states for the machine you created."
   ]
  },
  {
   "cell_type": "code",
   "execution_count": 12,
   "metadata": {
    "collapsed": false,
    "deletable": true,
    "editable": true
   },
   "outputs": [
    {
     "data": {
      "text/plain": [
       "'\\nYour code goes here\\n'"
      ]
     },
     "execution_count": 12,
     "metadata": {},
     "output_type": "execute_result"
    }
   ],
   "source": [
    "\"\"\"\n",
    "Your code goes here\n",
    "\"\"\""
   ]
  },
  {
   "cell_type": "markdown",
   "metadata": {
    "deletable": true,
    "editable": true,
    "hideCode": false,
    "hidePrompt": false
   },
   "source": [
    "#### Step 3:\n",
    "Find the equivalent state(s)."
   ]
  },
  {
   "cell_type": "code",
   "execution_count": 13,
   "metadata": {
    "collapsed": true,
    "deletable": true,
    "editable": true,
    "hideCode": false,
    "hidePrompt": false
   },
   "outputs": [],
   "source": [
    "def findEquivalent(f):\n",
    "    finalState = f.final;\n",
    "    startState = f.initial;\n",
    "    trans = f.transitions;\n",
    "    States = f.states\n",
    "    stateOrder = genStateOrder(f)\n",
    "    alphabet = genAlphabet(f)\n",
    "    transTable =  genTransTable(f)              \n",
    "    ZeroEquivalence = [];\n",
    "    for i in range(0, len(States)):\n",
    "        if(States[i].getName() != finalState):\n",
    "            ZeroEquivalence.append(States[i].getName())\n",
    "    result = [ZeroEquivalence, finalState]\n",
    "    temp = ZeroEquivalence\n",
    "    for counter in range(0, len(alphabet)):\n",
    "        a = \"\"\n",
    "        for i in range(0, len(temp)):\n",
    "            check = temp[i]\n",
    "            index = stateOrder.index(check)\n",
    "            for j in range(0, len(transTable[index])):\n",
    "                if(transTable[index][j] not in temp):\n",
    "                    a = temp[i]\n",
    "                    break\n",
    "                if(a != \"\"): break\n",
    "            if(a != \"\"): break\n",
    "        temp.remove(a)\n",
    "        result[0] = temp\n",
    "        result.append(a)\n",
    "    return result  "
   ]
  },
  {
   "cell_type": "markdown",
   "metadata": {
    "deletable": true,
    "editable": true
   },
   "source": [
    "#### <font color='Blue'>TRY YOURSELF:</font>\n",
    "Find the equivalent state(s) for the machine you created."
   ]
  },
  {
   "cell_type": "code",
   "execution_count": 14,
   "metadata": {
    "collapsed": false,
    "deletable": true,
    "editable": true
   },
   "outputs": [
    {
     "data": {
      "text/plain": [
       "'\\nYour code goes here\\n'"
      ]
     },
     "execution_count": 14,
     "metadata": {},
     "output_type": "execute_result"
    }
   ],
   "source": [
    "\"\"\"\n",
    "Your code goes here\n",
    "\"\"\""
   ]
  },
  {
   "cell_type": "markdown",
   "metadata": {
    "deletable": true,
    "editable": true
   },
   "source": [
    "#### Step 4: \n",
    "Use the equivalent states to minimize the DFA by combining the equivalent states."
   ]
  },
  {
   "cell_type": "code",
   "execution_count": 15,
   "metadata": {
    "collapsed": true,
    "deletable": true,
    "editable": true,
    "hideCode": false,
    "hidePrompt": false
   },
   "outputs": [],
   "source": [
    "def minimization(newState, f):\n",
    "    transTable = genTransTable(f)\n",
    "    stateOrder = genStateOrder(f)\n",
    "    alphabet = genAlphabet(f)\n",
    "    state = f.states\n",
    "    newTransitions = []\n",
    "    new = \"\"\n",
    "    for i in newState[0]:\n",
    "        new += i\n",
    "    newState2 = []\n",
    "    for j in state:\n",
    "        if(j.getName() not in newState[0] and j.getName() not in newState2):\n",
    "            newState2.append(j)\n",
    "    newState2.append(State(new)) \n",
    "    temp = newState[0][0]\n",
    "    index = stateOrder.index(temp)\n",
    "    for j in range(0, len(transTable[index])):\n",
    "        if(transTable[index][j] not in newState[0]):\n",
    "            newTransitions.append(Transition(new, transTable[index][j], alphabet[j]))\n",
    "        else:\n",
    "            newTransitions.append(Transition(new, new, alphabet[j]))\n",
    "    for i in range(1, len(newState)):\n",
    "        index = stateOrder.index(newState[i])\n",
    "        for j in range(0, len(transTable[index])):\n",
    "            newTransitions.append(Transition(newState[i], transTable[index][j], alphabet[j]))\n",
    "    state_state = \"\"\n",
    "    final_state = \"\"\n",
    "    if(f.initial in newState[0]):\n",
    "        state_state = new\n",
    "    else:\n",
    "        state_state = f.initial\n",
    "    if(f.final in newState[0]):\n",
    "        final_state = new\n",
    "    else:\n",
    "        final_state = f.final\n",
    "    newDFA = FiniteStateMachine_novisual(\"MinimizedMachine\", newState2, state_state, final_state, newTransitions)\n",
    "    return newDFA"
   ]
  },
  {
   "cell_type": "markdown",
   "metadata": {
    "deletable": true,
    "editable": true
   },
   "source": [
    "#### <font color='Blue'>TRY YOURSELF:</font>\n",
    "Minimize the state(s) for the machine you created."
   ]
  },
  {
   "cell_type": "code",
   "execution_count": 16,
   "metadata": {
    "collapsed": false,
    "deletable": true,
    "editable": true
   },
   "outputs": [
    {
     "data": {
      "text/plain": [
       "'\\nYour code goes here\\n'"
      ]
     },
     "execution_count": 16,
     "metadata": {},
     "output_type": "execute_result"
    }
   ],
   "source": [
    "\"\"\"\n",
    "Your code goes here\n",
    "\"\"\""
   ]
  },
  {
   "cell_type": "markdown",
   "metadata": {
    "deletable": true,
    "editable": true,
    "hideCode": false,
    "hidePrompt": false
   },
   "source": [
    "### Testing Removing Redundant State(s)"
   ]
  },
  {
   "cell_type": "code",
   "execution_count": 17,
   "metadata": {
    "collapsed": false,
    "deletable": true,
    "editable": true,
    "hideCode": false,
    "hidePrompt": false
   },
   "outputs": [
    {
     "name": "stdout",
     "output_type": "stream",
     "text": [
      "['q2', 'q3']\n",
      "['q2', 'q4']\n",
      "['q2', 'q3']\n",
      "['q2', 'q5']\n",
      "['q2', 'q3']\n",
      "[['q1', 'q3'], 'q5', 'q4', 'q2']\n",
      "Transitioning from state q1 to state q2\n",
      "Transitioning from state q2 to state q2\n",
      "Transitioning from state q2 to state q4\n",
      "Transitioning from state q4 to state q5\n",
      "The FSM has evaluated the string and is in an accepting state\n",
      "The String \"abb\" is accepted by Finite State Machine \"AlphabetSoup\"\n",
      "Transitioning from state q1q3 to state q2\n",
      "Transitioning from state q2 to state q2\n",
      "Transitioning from state q2 to state q4\n",
      "Transitioning from state q4 to state q5\n",
      "The FSM has evaluated the string and is in an accepting state\n",
      "The String \"abb\" is accepted by Finite State Machine \"MinimizedMachine\"\n"
     ]
    }
   ],
   "source": [
    "NewState = findEquivalent(z)\n",
    "newMachine = minimization(NewState, z)\n",
    "evaluateString(z, \"abb\")\n",
    "evaluateString(newMachine, \"abb\")"
   ]
  },
  {
   "cell_type": "markdown",
   "metadata": {
    "deletable": true,
    "editable": true
   },
   "source": [
    "#### <font color='Blue'>TRY YOURSELF:</font>\n",
    "Test if your minimized machine."
   ]
  },
  {
   "cell_type": "code",
   "execution_count": 18,
   "metadata": {
    "collapsed": false,
    "deletable": true,
    "editable": true
   },
   "outputs": [
    {
     "data": {
      "text/plain": [
       "'\\nYour code goes here\\n'"
      ]
     },
     "execution_count": 18,
     "metadata": {},
     "output_type": "execute_result"
    }
   ],
   "source": [
    "\"\"\"\n",
    "Your code goes here\n",
    "\"\"\""
   ]
  },
  {
   "cell_type": "markdown",
   "metadata": {
    "deletable": true,
    "editable": true,
    "hideCode": false,
    "hidePrompt": false
   },
   "source": [
    "# Implementation Attempts:"
   ]
  },
  {
   "cell_type": "markdown",
   "metadata": {
    "deletable": true,
    "editable": true,
    "hideCode": false,
    "hidePrompt": false
   },
   "source": [
    "We spent a large amount of time trying to implement the finite state machine with visualizations. Through trial and error we narrowed down our options of how we could go about making a good implementation. Below are examples of our attempts."
   ]
  },
  {
   "cell_type": "markdown",
   "metadata": {
    "deletable": true,
    "editable": true,
    "hideCode": false,
    "hidePrompt": false
   },
   "source": [
    "#1 An attempt to create a finite state machine in javascript. This had potential to work and was the closest attempt we had. A better implementation of a finite state machine was created in javascript and we came across the following resource which was a big stepping stone in creating our final prototype. https://www3.nd.edu/~pbui/teaching/cdt.30010.fa15/notebook04.html"
   ]
  },
  {
   "cell_type": "code",
   "execution_count": 19,
   "metadata": {
    "collapsed": false,
    "deletable": true,
    "editable": true,
    "hideCode": false,
    "hidePrompt": false
   },
   "outputs": [
    {
     "data": {
      "text/html": [
       "<canvas id=\"myCanvas\" width=\"1000\" height=\"200\"></canvas>"
      ],
      "text/plain": [
       "<IPython.core.display.HTML object>"
      ]
     },
     "metadata": {},
     "output_type": "display_data"
    }
   ],
   "source": [
    "%%HTML\n",
    "<canvas id=\"myCanvas\" width=\"1000\" height=\"200\"></canvas>"
   ]
  },
  {
   "cell_type": "code",
   "execution_count": 20,
   "metadata": {
    "collapsed": false,
    "deletable": true,
    "editable": true,
    "hideCode": false,
    "hidePrompt": false
   },
   "outputs": [
    {
     "data": {
      "application/javascript": [
       "\n",
       "\n",
       "var canvas = document.getElementById('myCanvas');\n",
       "  var state1 = canvas.getContext('2d');\n",
       "  var state2 = canvas.getContext('2d');\n",
       "  var state3 = canvas.getContext('2d');\n",
       "  var center2 = 100;\n",
       "  var center3 = 900;\n",
       "  var centerX = 500;\n",
       "  var centerY = canvas.height / 2;\n",
       "  var radius = 70;\n",
       "\n",
       "  state1.beginPath();\n",
       "  state1.arc(centerX, centerY, radius, 0, 2 * Math.PI, false);\n",
       "  state1.fillStyle = 'green';\n",
       "  state1.fill();\n",
       "  state1.lineWidth = 5;\n",
       "  state1.strokeStyle = '#003300';\n",
       "  state1.stroke();\n",
       "  state2.beginPath();\n",
       "  state2.arc(center2, centerY, radius, 0, 2 * Math.PI, false);\n",
       "  state2.fillStyle = 'green';\n",
       "  state2.fill();\n",
       "  state2.lineWidth = 5;\n",
       "  state2.strokeStyle = '#003300';\n",
       "  state2.stroke(); \n",
       "  state3.beginPath();\n",
       "  state3.arc(center3, centerY, radius, 0, 2 * Math.PI, false);\n",
       "  state3.fillStyle = 'green';\n",
       "  state3.fill();\n",
       "  state3.lineWidth = 5;\n",
       "  state3.strokeStyle = '#003300';\n",
       "  state3.stroke();\n",
       "\n",
       "  \n",
       "\n",
       "var TrafficLight = function () {\n",
       "    var count = 0;\n",
       "    var currentState = new Red(this);\n",
       " \n",
       "    this.change = function (state) {\n",
       "        // limits number of changes\n",
       "        if (count++ >= 10) return;\n",
       "        currentState = state;\n",
       "        currentState.go();\n",
       "    };\n",
       " \n",
       "    this.start = function () {\n",
       "        currentState.go();\n",
       "    };\n",
       "}\n",
       " \n",
       "var Red = function (light) {\n",
       "    this.light = light;\n",
       " \n",
       "    this.go = function () {\n",
       "        element.append(\"Red --> for 1 minute <br> \");\n",
       "\n",
       "        setTimeout(function () {\n",
       "            state1.fillStyle = 'blue';\n",
       "            state1.fill();\n",
       "        }, 5000);\n",
       "\n",
       "        \n",
       "        light.change(new Green(light));\n",
       "    }\n",
       "};\n",
       " \n",
       "var Yellow = function (light) {\n",
       "    this.light = light;\n",
       " \n",
       "    this.go = function () {\n",
       "        element.append(\"Yellow --> for 10 seconds <br>\");\n",
       "        setTimeout(function () {\n",
       "            state2.fillStyle = 'blue';\n",
       "            state2.fill();\n",
       "        }, 5000);\n",
       "        \n",
       "        light.change(new Red(light));\n",
       "    }\n",
       "};\n",
       " \n",
       "var Green = function (light) {\n",
       "    this.light = light;\n",
       " \n",
       "    this.go = function () {\n",
       "        element.append(\"Green --> for 1 minute <br>\" );\n",
       "         setTimeout(function () {\n",
       "            state3.fillStyle = 'blue';\n",
       "            state3.fill();\n",
       "        }, 5000);\n",
       "        light.change(new Yellow(light));\n",
       "    }\n",
       "};\n",
       "\n",
       " \n",
       "function run() {\n",
       "    var light = new TrafficLight();\n",
       "    light.start();\n",
       " \n",
       "    console.log(\"\");\n",
       "}\n",
       "\n",
       "run()"
      ],
      "text/plain": [
       "<IPython.core.display.Javascript object>"
      ]
     },
     "metadata": {},
     "output_type": "display_data"
    }
   ],
   "source": [
    "%%javascript\n",
    "\n",
    "\n",
    "var canvas = document.getElementById('myCanvas');\n",
    "  var state1 = canvas.getContext('2d');\n",
    "  var state2 = canvas.getContext('2d');\n",
    "  var state3 = canvas.getContext('2d');\n",
    "  var center2 = 100;\n",
    "  var center3 = 900;\n",
    "  var centerX = 500;\n",
    "  var centerY = canvas.height / 2;\n",
    "  var radius = 70;\n",
    "\n",
    "  state1.beginPath();\n",
    "  state1.arc(centerX, centerY, radius, 0, 2 * Math.PI, false);\n",
    "  state1.fillStyle = 'green';\n",
    "  state1.fill();\n",
    "  state1.lineWidth = 5;\n",
    "  state1.strokeStyle = '#003300';\n",
    "  state1.stroke();\n",
    "  state2.beginPath();\n",
    "  state2.arc(center2, centerY, radius, 0, 2 * Math.PI, false);\n",
    "  state2.fillStyle = 'green';\n",
    "  state2.fill();\n",
    "  state2.lineWidth = 5;\n",
    "  state2.strokeStyle = '#003300';\n",
    "  state2.stroke(); \n",
    "  state3.beginPath();\n",
    "  state3.arc(center3, centerY, radius, 0, 2 * Math.PI, false);\n",
    "  state3.fillStyle = 'green';\n",
    "  state3.fill();\n",
    "  state3.lineWidth = 5;\n",
    "  state3.strokeStyle = '#003300';\n",
    "  state3.stroke();\n",
    "\n",
    "  \n",
    "\n",
    "var TrafficLight = function () {\n",
    "    var count = 0;\n",
    "    var currentState = new Red(this);\n",
    " \n",
    "    this.change = function (state) {\n",
    "        // limits number of changes\n",
    "        if (count++ >= 10) return;\n",
    "        currentState = state;\n",
    "        currentState.go();\n",
    "    };\n",
    " \n",
    "    this.start = function () {\n",
    "        currentState.go();\n",
    "    };\n",
    "}\n",
    " \n",
    "var Red = function (light) {\n",
    "    this.light = light;\n",
    " \n",
    "    this.go = function () {\n",
    "        element.append(\"Red --> for 1 minute <br> \");\n",
    "\n",
    "        setTimeout(function () {\n",
    "            state1.fillStyle = 'blue';\n",
    "            state1.fill();\n",
    "        }, 5000);\n",
    "\n",
    "        \n",
    "        light.change(new Green(light));\n",
    "    }\n",
    "};\n",
    " \n",
    "var Yellow = function (light) {\n",
    "    this.light = light;\n",
    " \n",
    "    this.go = function () {\n",
    "        element.append(\"Yellow --> for 10 seconds <br>\");\n",
    "        setTimeout(function () {\n",
    "            state2.fillStyle = 'blue';\n",
    "            state2.fill();\n",
    "        }, 5000);\n",
    "        \n",
    "        light.change(new Red(light));\n",
    "    }\n",
    "};\n",
    " \n",
    "var Green = function (light) {\n",
    "    this.light = light;\n",
    " \n",
    "    this.go = function () {\n",
    "        element.append(\"Green --> for 1 minute <br>\" );\n",
    "         setTimeout(function () {\n",
    "            state3.fillStyle = 'blue';\n",
    "            state3.fill();\n",
    "        }, 5000);\n",
    "        light.change(new Yellow(light));\n",
    "    }\n",
    "};\n",
    "\n",
    " \n",
    "function run() {\n",
    "    var light = new TrafficLight();\n",
    "    light.start();\n",
    " \n",
    "    console.log(\"\");\n",
    "}\n",
    "\n",
    "run()"
   ]
  },
  {
   "cell_type": "markdown",
   "metadata": {
    "deletable": true,
    "editable": true,
    "hideCode": false,
    "hidePrompt": false
   },
   "source": [
    "#2 We attempted using graphviz to draw our animations but they only drew static images. Looking back on this attempt this issue could have been resolved using the clear_output() function to clear the cell. Still, implementing our visualizations the way we did required more effort and did not use an api."
   ]
  },
  {
   "cell_type": "code",
   "execution_count": 21,
   "metadata": {
    "collapsed": false,
    "deletable": true,
    "editable": true,
    "hideCode": false,
    "hidePrompt": false
   },
   "outputs": [
    {
     "ename": "RuntimeError",
     "evalue": "failed to execute ['dot', '-Tpdf', '-O', 'fsm.gv'], make sure the Graphviz executables are on your systems' path",
     "output_type": "error",
     "traceback": [
      "\u001b[0;31m---------------------------------------------------------------------------\u001b[0m",
      "\u001b[0;31mFileNotFoundError\u001b[0m                         Traceback (most recent call last)",
      "\u001b[0;32m/usr/local/lib/python3.6/site-packages/graphviz/backend.py\u001b[0m in \u001b[0;36mrender\u001b[0;34m(engine, format, filepath)\u001b[0m\n\u001b[1;32m     94\u001b[0m     \u001b[0;32mtry\u001b[0m\u001b[0;34m:\u001b[0m\u001b[0;34m\u001b[0m\u001b[0m\n\u001b[0;32m---> 95\u001b[0;31m         \u001b[0msubprocess\u001b[0m\u001b[0;34m.\u001b[0m\u001b[0mcall\u001b[0m\u001b[0;34m(\u001b[0m\u001b[0margs\u001b[0m\u001b[0;34m,\u001b[0m \u001b[0mstartupinfo\u001b[0m\u001b[0;34m=\u001b[0m\u001b[0mSTARTUPINFO\u001b[0m\u001b[0;34m)\u001b[0m\u001b[0;34m\u001b[0m\u001b[0m\n\u001b[0m\u001b[1;32m     96\u001b[0m     \u001b[0;32mexcept\u001b[0m \u001b[0mOSError\u001b[0m \u001b[0;32mas\u001b[0m \u001b[0me\u001b[0m\u001b[0;34m:\u001b[0m\u001b[0;34m\u001b[0m\u001b[0m\n",
      "\u001b[0;32m/usr/local/Cellar/python3/3.6.0_1/Frameworks/Python.framework/Versions/3.6/lib/python3.6/subprocess.py\u001b[0m in \u001b[0;36mcall\u001b[0;34m(timeout, *popenargs, **kwargs)\u001b[0m\n\u001b[1;32m    266\u001b[0m     \"\"\"\n\u001b[0;32m--> 267\u001b[0;31m     \u001b[0;32mwith\u001b[0m \u001b[0mPopen\u001b[0m\u001b[0;34m(\u001b[0m\u001b[0;34m*\u001b[0m\u001b[0mpopenargs\u001b[0m\u001b[0;34m,\u001b[0m \u001b[0;34m**\u001b[0m\u001b[0mkwargs\u001b[0m\u001b[0;34m)\u001b[0m \u001b[0;32mas\u001b[0m \u001b[0mp\u001b[0m\u001b[0;34m:\u001b[0m\u001b[0;34m\u001b[0m\u001b[0m\n\u001b[0m\u001b[1;32m    268\u001b[0m         \u001b[0;32mtry\u001b[0m\u001b[0;34m:\u001b[0m\u001b[0;34m\u001b[0m\u001b[0m\n",
      "\u001b[0;32m/usr/local/Cellar/python3/3.6.0_1/Frameworks/Python.framework/Versions/3.6/lib/python3.6/subprocess.py\u001b[0m in \u001b[0;36m__init__\u001b[0;34m(self, args, bufsize, executable, stdin, stdout, stderr, preexec_fn, close_fds, shell, cwd, env, universal_newlines, startupinfo, creationflags, restore_signals, start_new_session, pass_fds, encoding, errors)\u001b[0m\n\u001b[1;32m    706\u001b[0m                                 \u001b[0merrread\u001b[0m\u001b[0;34m,\u001b[0m \u001b[0merrwrite\u001b[0m\u001b[0;34m,\u001b[0m\u001b[0;34m\u001b[0m\u001b[0m\n\u001b[0;32m--> 707\u001b[0;31m                                 restore_signals, start_new_session)\n\u001b[0m\u001b[1;32m    708\u001b[0m         \u001b[0;32mexcept\u001b[0m\u001b[0;34m:\u001b[0m\u001b[0;34m\u001b[0m\u001b[0m\n",
      "\u001b[0;32m/usr/local/Cellar/python3/3.6.0_1/Frameworks/Python.framework/Versions/3.6/lib/python3.6/subprocess.py\u001b[0m in \u001b[0;36m_execute_child\u001b[0;34m(self, args, executable, preexec_fn, close_fds, pass_fds, cwd, env, startupinfo, creationflags, shell, p2cread, p2cwrite, c2pread, c2pwrite, errread, errwrite, restore_signals, start_new_session)\u001b[0m\n\u001b[1;32m   1325\u001b[0m                                 \u001b[0merr_msg\u001b[0m \u001b[0;34m+=\u001b[0m \u001b[0;34m': '\u001b[0m \u001b[0;34m+\u001b[0m \u001b[0mrepr\u001b[0m\u001b[0;34m(\u001b[0m\u001b[0morig_executable\u001b[0m\u001b[0;34m)\u001b[0m\u001b[0;34m\u001b[0m\u001b[0m\n\u001b[0;32m-> 1326\u001b[0;31m                     \u001b[0;32mraise\u001b[0m \u001b[0mchild_exception_type\u001b[0m\u001b[0;34m(\u001b[0m\u001b[0merrno_num\u001b[0m\u001b[0;34m,\u001b[0m \u001b[0merr_msg\u001b[0m\u001b[0;34m)\u001b[0m\u001b[0;34m\u001b[0m\u001b[0m\n\u001b[0m\u001b[1;32m   1327\u001b[0m                 \u001b[0;32mraise\u001b[0m \u001b[0mchild_exception_type\u001b[0m\u001b[0;34m(\u001b[0m\u001b[0merr_msg\u001b[0m\u001b[0;34m)\u001b[0m\u001b[0;34m\u001b[0m\u001b[0m\n",
      "\u001b[0;31mFileNotFoundError\u001b[0m: [Errno 2] No such file or directory: 'dot'",
      "\nDuring handling of the above exception, another exception occurred:\n",
      "\u001b[0;31mRuntimeError\u001b[0m                              Traceback (most recent call last)",
      "\u001b[0;32m<ipython-input-21-d5a949bfa217>\u001b[0m in \u001b[0;36m<module>\u001b[0;34m()\u001b[0m\n\u001b[1;32m     27\u001b[0m \u001b[0mf\u001b[0m\u001b[0;34m.\u001b[0m\u001b[0medge\u001b[0m\u001b[0;34m(\u001b[0m\u001b[0;34m'LR_8'\u001b[0m\u001b[0;34m,\u001b[0m \u001b[0;34m'LR_5'\u001b[0m\u001b[0;34m,\u001b[0m \u001b[0mlabel\u001b[0m\u001b[0;34m=\u001b[0m\u001b[0;34m'S(a)'\u001b[0m\u001b[0;34m)\u001b[0m\u001b[0;34m\u001b[0m\u001b[0m\n\u001b[1;32m     28\u001b[0m \u001b[0;34m\u001b[0m\u001b[0m\n\u001b[0;32m---> 29\u001b[0;31m \u001b[0mf\u001b[0m\u001b[0;34m.\u001b[0m\u001b[0mview\u001b[0m\u001b[0;34m(\u001b[0m\u001b[0;34m)\u001b[0m\u001b[0;34m\u001b[0m\u001b[0m\n\u001b[0m",
      "\u001b[0;32m/usr/local/lib/python3.6/site-packages/graphviz/files.py\u001b[0m in \u001b[0;36mview\u001b[0;34m(self, filename, directory, cleanup)\u001b[0m\n\u001b[1;32m    170\u001b[0m         \"\"\"\n\u001b[1;32m    171\u001b[0m         return self.render(view=True,\n\u001b[0;32m--> 172\u001b[0;31m             filename=filename, directory=directory, cleanup=cleanup)\n\u001b[0m\u001b[1;32m    173\u001b[0m \u001b[0;34m\u001b[0m\u001b[0m\n\u001b[1;32m    174\u001b[0m     \u001b[0;32mdef\u001b[0m \u001b[0m_view\u001b[0m\u001b[0;34m(\u001b[0m\u001b[0mself\u001b[0m\u001b[0;34m,\u001b[0m \u001b[0mfilepath\u001b[0m\u001b[0;34m,\u001b[0m \u001b[0mformat\u001b[0m\u001b[0;34m)\u001b[0m\u001b[0;34m:\u001b[0m\u001b[0;34m\u001b[0m\u001b[0m\n",
      "\u001b[0;32m/usr/local/lib/python3.6/site-packages/graphviz/files.py\u001b[0m in \u001b[0;36mrender\u001b[0;34m(self, filename, directory, view, cleanup)\u001b[0m\n\u001b[1;32m    144\u001b[0m         \u001b[0mfilepath\u001b[0m \u001b[0;34m=\u001b[0m \u001b[0mself\u001b[0m\u001b[0;34m.\u001b[0m\u001b[0msave\u001b[0m\u001b[0;34m(\u001b[0m\u001b[0mfilename\u001b[0m\u001b[0;34m,\u001b[0m \u001b[0mdirectory\u001b[0m\u001b[0;34m)\u001b[0m\u001b[0;34m\u001b[0m\u001b[0m\n\u001b[1;32m    145\u001b[0m \u001b[0;34m\u001b[0m\u001b[0m\n\u001b[0;32m--> 146\u001b[0;31m         \u001b[0mrendered\u001b[0m \u001b[0;34m=\u001b[0m \u001b[0mbackend\u001b[0m\u001b[0;34m.\u001b[0m\u001b[0mrender\u001b[0m\u001b[0;34m(\u001b[0m\u001b[0mself\u001b[0m\u001b[0;34m.\u001b[0m\u001b[0m_engine\u001b[0m\u001b[0;34m,\u001b[0m \u001b[0mself\u001b[0m\u001b[0;34m.\u001b[0m\u001b[0m_format\u001b[0m\u001b[0;34m,\u001b[0m \u001b[0mfilepath\u001b[0m\u001b[0;34m)\u001b[0m\u001b[0;34m\u001b[0m\u001b[0m\n\u001b[0m\u001b[1;32m    147\u001b[0m \u001b[0;34m\u001b[0m\u001b[0m\n\u001b[1;32m    148\u001b[0m         \u001b[0;32mif\u001b[0m \u001b[0mcleanup\u001b[0m\u001b[0;34m:\u001b[0m\u001b[0;34m\u001b[0m\u001b[0m\n",
      "\u001b[0;32m/usr/local/lib/python3.6/site-packages/graphviz/backend.py\u001b[0m in \u001b[0;36mrender\u001b[0;34m(engine, format, filepath)\u001b[0m\n\u001b[1;32m     98\u001b[0m             raise RuntimeError('failed to execute %r, '\n\u001b[1;32m     99\u001b[0m                 \u001b[0;34m'make sure the Graphviz executables '\u001b[0m\u001b[0;34m\u001b[0m\u001b[0m\n\u001b[0;32m--> 100\u001b[0;31m                 'are on your systems\\' path' % args)\n\u001b[0m\u001b[1;32m    101\u001b[0m         \u001b[0;32melse\u001b[0m\u001b[0;34m:\u001b[0m  \u001b[0;31m# pragma: no cover\u001b[0m\u001b[0;34m\u001b[0m\u001b[0m\n\u001b[1;32m    102\u001b[0m             \u001b[0;32mraise\u001b[0m\u001b[0;34m\u001b[0m\u001b[0m\n",
      "\u001b[0;31mRuntimeError\u001b[0m: failed to execute ['dot', '-Tpdf', '-O', 'fsm.gv'], make sure the Graphviz executables are on your systems' path"
     ]
    }
   ],
   "source": [
    "import graphviz as gv\n",
    "from graphviz import Digraph\n",
    "\n",
    "f = Digraph('finite_state_machine', filename='fsm.gv')\n",
    "f.body.extend(['rankdir=LR', 'size=\"8,5\"'])\n",
    "\n",
    "f.attr('node', shape='doublecircle')\n",
    "f.node('LR_0')\n",
    "f.node('LR_3')\n",
    "f.node('LR_4')\n",
    "f.node('LR_8')\n",
    "\n",
    "f.attr('node', shape='circle')\n",
    "f.edge('LR_0', 'LR_2', label='SS(B)')\n",
    "f.edge('LR_0', 'LR_1', label='SS(S)')\n",
    "f.edge('LR_1', 'LR_3', label='S($end)')\n",
    "f.edge('LR_2', 'LR_6', label='SS(b)')\n",
    "f.edge('LR_2', 'LR_5', label='SS(a)')\n",
    "f.edge('LR_2', 'LR_4', label='S(A)')\n",
    "f.edge('LR_5', 'LR_7', label='S(b)')\n",
    "f.edge('LR_5', 'LR_5', label='S(a)')\n",
    "f.edge('LR_6', 'LR_6', label='S(b)')\n",
    "f.edge('LR_6', 'LR_5', label='S(a)')\n",
    "f.edge('LR_7', 'LR_8', label='S(b)')\n",
    "f.edge('LR_7', 'LR_5', label='S(a)')\n",
    "f.edge('LR_8', 'LR_6', label='S(b)')\n",
    "f.edge('LR_8', 'LR_5', label='S(a)')\n",
    "\n",
    "f.view()"
   ]
  },
  {
   "cell_type": "markdown",
   "metadata": {
    "deletable": true,
    "editable": true,
    "hideCode": false,
    "hidePrompt": false
   },
   "source": [
    "#3 Attempts for vizualization were made with pygame. The issue with this is everytime pygame would launch a window it would freeze the entire notebook when trying to exit it. Also launching an external window with pygame defeats the process of having code embedded in a notebook. The code is not provided as it may crash this notebook if run accidentally. "
   ]
  },
  {
   "cell_type": "markdown",
   "metadata": {
    "deletable": true,
    "editable": true,
    "hideCode": false,
    "hidePrompt": false
   },
   "source": [
    "#4 Lastly we tried using the transitions api from github: https://github.com/tyarkoni/transitions. This did not work because it provided too much implementation for us and did not allow us to construct the logic of the finite state machine ourselves. "
   ]
  },
  {
   "cell_type": "markdown",
   "metadata": {
    "deletable": true,
    "editable": true,
    "hideCode": false,
    "hidePrompt": false
   },
   "source": [
    "### Design Decisions:\n",
    "\n",
    "Below is a description of the design decisions we have mad in terms of the visualizations, finite state machine implementation as well as the teaching resources:\n",
    "\n",
    "<b>Visualizations:</b>\n",
    "<br>\n",
    "We chose to animate the finite state machine using an HTML canvas with SVG tags due to the fact it could be integrated well with the finite state machine we had written in python. The following resource was very helpful in understanding how to draw images in ipython. https://www3.nd.edu/~pbui/teaching/cdt.30010.fa15/notebook04.html. Drawing items on the HTML then clearing the cell afterwards with the applied changes on the states and transitions gives the feel of an animation. We were able to implement the visualizations this way without making use of an API and coding everything from scratch.\n",
    "\n",
    "<b>Implementation of Finite State Machines in the Python programming language:</b>\n",
    "<br>\n",
    "Students will be able to create their own finite state machines using a few lines of python code. The finite state machine implementation will allow for state transitions given an input and will determine if an input string is accepted by the finite state machine. Interactive exercises will be created after each key lesson to allow students to reinforce their understanding of finite state machines, while helping to resolve any misconceptions in a practical manner. The implementation will follow an object oriented approach, this allows for a better understanding of finite state machines, without getting bogged down in the technical aspects of the code itself, yet still approaching the topics from a hands-on perspective. \n",
    "\n",
    "<b>Teaching Resources:</b>\n",
    "<br>\n",
    "Currently one of our resources allows students to enter an input string for a certain finite state machine and the notebook will return whether or not the string was accepted by a FSM. This module checks the input string against a regular expression. We have text in the form of a textbook with images supporting the explanation of the algorithms and finite state machines. We think this information is good background for the student before they attempt to change the finite state machine and visualize it themselves based on our code. \n",
    "\n"
   ]
  },
  {
   "cell_type": "markdown",
   "metadata": {
    "deletable": true,
    "editable": true,
    "hideCode": false,
    "hidePrompt": false
   },
   "source": [
    "### Implementation Outline\n",
    "The implementation plan are shown in the table below.\n",
    "\n",
    "| No. | Task | Owner | Date          \n",
    "| :---: | :-------------: |:-------------: | :---: \n",
    "| 1 | Reserch on state minimization algorithm | Danielle Shwed | March 10\n",
    "| 2 | Reserch on converting NFA to DFA algorithm | Xiaoying Wang | March 10\n",
    "| 3 | Research on Visualization in Jupyter Notebook | Liyanage Perera | March 10\n",
    "| 4 | Text explanation of algorithms  | Danielle Shwed | March 20\n",
    "| 5 | Visualization  | Liyanage Perera | March 20\n",
    "| 6 | Documentation - draft report  | Xiaoying Wang | March 20\n",
    "| 7 | Implementation of state minimization algorithm | TBD | April 6\n",
    "| 8 | Implementation of converting NFA to DFA algorithm | TBD | April 6\n",
    "| 9 | Implementation of additional visual effects required for this project | TBD | April 6\n",
    "| 10 | Documentation - final report | TBD | April 6\n",
    "| 11 | Presentation | All | TBD\n"
   ]
  }
 ],
 "metadata": {
  "celltoolbar": "Hide code",
  "hide_code_all_hidden": false,
  "kernelspec": {
   "display_name": "Python 3",
   "language": "python",
   "name": "python3"
  },
  "language_info": {
   "codemirror_mode": {
    "name": "ipython",
    "version": 3
   },
   "file_extension": ".py",
   "mimetype": "text/x-python",
   "name": "python",
   "nbconvert_exporter": "python",
   "pygments_lexer": "ipython3",
   "version": "3.6.0"
  }
 },
 "nbformat": 4,
 "nbformat_minor": 2
}
